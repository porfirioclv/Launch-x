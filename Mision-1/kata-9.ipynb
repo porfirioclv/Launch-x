{
 "cells": [
  {
   "cell_type": "markdown",
   "metadata": {},
   "source": [
    "# Ejercicio: Uso de funciones en Python"
   ]
  },
  {
   "cell_type": "code",
   "execution_count": 11,
   "metadata": {},
   "outputs": [
    {
     "name": "stdout",
     "output_type": "stream",
     "text": [
      "\n",
      "        Combustible\n",
      "        ---------------------\n",
      "        Tanque 1: 10\n",
      "        Tanque 2: 20\n",
      "        Tanque 3: 30\n",
      "        ---------------------\n",
      "        Promedio de combustible: 20.0\n",
      "    \n"
     ]
    },
    {
     "data": {
      "text/plain": [
       "82.0"
      ]
     },
     "execution_count": 11,
     "metadata": {},
     "output_type": "execute_result"
    }
   ],
   "source": [
    "def calcularCombustible(tanque1, tanque2, tanque3):\n",
    "    plantilla=f\"\"\"\n",
    "        Combustible\n",
    "        ---------------------\n",
    "        Tanque 1: {tanque1}\n",
    "        Tanque 2: {tanque2}\n",
    "        Tanque 3: {tanque3}\n",
    "        ---------------------\n",
    "        Promedio de combustible: { calcularPromedio (tanque1, tanque2, tanque3)}\n",
    "    \"\"\"\n",
    "    return plantilla\n",
    "def calcularPromedio(tanque1, tanque2, tanque3):\n",
    "    return (tanque1+tanque2+tanque3) / 3\n",
    "\n",
    "print(calcularCombustible(10, 20, 30))\n",
    "\n",
    "# ----------- copia de github  ----------\n",
    "# Función promedio \n",
    "def average(values):\n",
    "    total = sum(values)\n",
    "    number_of_items = len(values)\n",
    "    return total / number_of_items\n",
    "\n",
    "# Test the averaging function with a list of integers:\n",
    "average([80, 85, 81]) "
   ]
  },
  {
   "cell_type": "markdown",
   "metadata": {},
   "source": [
    "# Ejercicio 2: Trabajo con argumentos de palabra clave"
   ]
  },
  {
   "cell_type": "code",
   "execution_count": 12,
   "metadata": {},
   "outputs": [
    {
     "name": "stdout",
     "output_type": "stream",
     "text": [
      "5 astronauts assigned for this mission:\n",
      "Hora_Prelanzamiento: 10 am\n",
      "Tiempo_Vuelo: 2 horas\n",
      "Destino: Luna\n",
      "Tanque_Externo: 100\n",
      "Tanque_Interno: 50\n",
      "\n",
      "    Mission to Moon\n",
      "    Total travel time: 74 minutes\n",
      "    Total fuel left: 500000\n",
      "    main tank --> 300000 gallons left\n",
      "external tank --> 200000 gallons left\n",
      "\n"
     ]
    }
   ],
   "source": [
    "# Función con un informe preciso de la misión. \n",
    "# Considera hora de prelanzamiento, tiempo de vuelo, destino, tanque externo y tanque interno\n",
    "def construirCohete(**kwargs):\n",
    "    print(f'{len(kwargs)} astronauts assigned for this mission:')\n",
    "    for title, name in kwargs.items():\n",
    "        print(f'{title.title()}: {name}')\n",
    "\n",
    "construirCohete(hora_Prelanzamiento='10 am', tiempo_Vuelo='2 horas', destino='Luna', tanque_Externo=100, tanque_Interno=50)\n",
    "\n",
    "# ----------- copia de github  ----------\n",
    "# Escribe tu nueva función\n",
    "\n",
    "def mission_report(destination, *minutes, **fuel_reservoirs):\n",
    "    main_report = f\"\"\"\n",
    "    Mission to {destination}\n",
    "    Total travel time: {sum(minutes)} minutes\n",
    "    Total fuel left: {sum(fuel_reservoirs.values())}\n",
    "    \"\"\"\n",
    "    for tank_name, gallons in fuel_reservoirs.items():\n",
    "        main_report += f\"{tank_name} tank --> {gallons} gallons left\\n\"\n",
    "    return main_report\n",
    "\n",
    "print(mission_report(\"Moon\", 8, 11, 55, main=300000, external=200000))\n"
   ]
  }
 ],
 "metadata": {
  "interpreter": {
   "hash": "ce675d2c2c5970d02efa6adb24a0a1b90710192f9a3ef0347ae3131e2e16d252"
  },
  "kernelspec": {
   "display_name": "Python 3.10.2 64-bit",
   "language": "python",
   "name": "python3"
  },
  "language_info": {
   "codemirror_mode": {
    "name": "ipython",
    "version": 3
   },
   "file_extension": ".py",
   "mimetype": "text/x-python",
   "name": "python",
   "nbconvert_exporter": "python",
   "pygments_lexer": "ipython3",
   "version": "3.10.2"
  },
  "orig_nbformat": 4
 },
 "nbformat": 4,
 "nbformat_minor": 2
}
