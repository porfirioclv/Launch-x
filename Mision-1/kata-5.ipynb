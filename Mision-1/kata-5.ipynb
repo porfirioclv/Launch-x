{
 "cells": [
  {
   "cell_type": "markdown",
   "metadata": {},
   "source": [
    "# modulo 5"
   ]
  },
  {
   "cell_type": "markdown",
   "metadata": {},
   "source": [
    "# Ejercicio 1"
   ]
  },
  {
   "cell_type": "code",
   "execution_count": 30,
   "metadata": {},
   "outputs": [
    {
     "name": "stdout",
     "output_type": "stream",
     "text": [
      "Distancia KM: 628949330\n",
      "Distancia Mi: 390810874\n"
     ]
    }
   ],
   "source": [
    "tierra=149597870 #km\n",
    "jupiter=778547200 #km\n",
    "diferencia= jupiter -  tierra #km\n",
    "#0.621371 1km=1mi\n",
    "print('Distancia KM: ' + str(diferencia))\n",
    "print('Distancia Mi: ' + str( round(  diferencia * 0.621371)))\n",
    "\n",
    "\n"
   ]
  },
  {
   "cell_type": "markdown",
   "metadata": {},
   "source": [
    "# Ejercicio 2"
   ]
  },
  {
   "cell_type": "code",
   "execution_count": 31,
   "metadata": {},
   "outputs": [
    {
     "name": "stdout",
     "output_type": "stream",
     "text": [
      "la distancia entre Mercurio y Urano es de 1748910817 Millas.\n"
     ]
    }
   ],
   "source": [
    "planeta1= input(\"¿Nombre del Primera Planeta?\")\n",
    "distancia1= input(\"¿Distancia del Sol?\")\n",
    "\n",
    "planeta2= input(\"¿Nombre del Segundo Planeta?\")\n",
    "distancia2= input(\"¿Distancia del Sol?\")\n",
    "\n",
    "distancia = abs(  int(distancia1) - int(distancia2) )\n",
    "plantilla = 'la distancia entre {0} y {1} es de {2} Millas.'.format( planeta1, planeta2, round( distancia * 0.621371 ))\n",
    "\n",
    "print( plantilla )"
   ]
  }
 ],
 "metadata": {
  "interpreter": {
   "hash": "ce675d2c2c5970d02efa6adb24a0a1b90710192f9a3ef0347ae3131e2e16d252"
  },
  "kernelspec": {
   "display_name": "Python 3.10.2 64-bit",
   "language": "python",
   "name": "python3"
  },
  "language_info": {
   "codemirror_mode": {
    "name": "ipython",
    "version": 3
   },
   "file_extension": ".py",
   "mimetype": "text/x-python",
   "name": "python",
   "nbconvert_exporter": "python",
   "pygments_lexer": "ipython3",
   "version": "3.10.2"
  },
  "orig_nbformat": 4
 },
 "nbformat": 4,
 "nbformat_minor": 2
}
